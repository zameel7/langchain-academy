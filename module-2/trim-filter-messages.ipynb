{
 "cells": [
  {
   "cell_type": "markdown",
   "id": "c52ea2f9-03ff-4647-b782-46867ebed04e",
   "metadata": {},
   "source": [
    "# Filtering and trimming messages\n",
    "\n",
    "## Review\n",
    "\n",
    "Now, we have a deeper understanding of a few things: \n",
    "\n",
    "* How to customize the graph state schema\n",
    "* How to define custom state reducers\n",
    "* How to use multiple graph state schemas\n",
    "\n",
    "## Goals\n",
    "\n",
    "Now, we can start using these concepts with models in LangGraph!\n",
    " \n",
    "In the next few sessions, we'll build towards a chatbot that has long-term memory.\n",
    "\n",
    "Because our chatbot will use messages, let's first talk a bit more about advanced ways to work with messages in graph state."
   ]
  },
  {
   "cell_type": "code",
   "execution_count": 1,
   "id": "d5197aba-5d46-421b-ae3b-4e3034edcfda",
   "metadata": {},
   "outputs": [],
   "source": [
    "%%capture --no-stderr\n",
    "%pip install --quiet -U langchain_core langgraph langchain_openai"
   ]
  },
  {
   "cell_type": "code",
   "execution_count": 2,
   "id": "768dc606-d5f2-468d-96ea-910b264e0f8a",
   "metadata": {},
   "outputs": [],
   "source": [
    "import os, getpass\n",
    "\n",
    "def _set_env(var: str):\n",
    "    if not os.environ.get(var):\n",
    "        os.environ[var] = getpass.getpass(f\"{var}: \")\n",
    "\n",
    "_set_env(\"OPENAI_API_KEY\")"
   ]
  },
  {
   "cell_type": "markdown",
   "id": "8b64d8d3-e4ac-4961-bdc0-688825eb5864",
   "metadata": {},
   "source": [
    "We'll use [LangSmith](https://docs.smith.langchain.com/) for [tracing](https://docs.smith.langchain.com/concepts/tracing).\n",
    "\n",
    "We'll log to a project, `langchain-academy`. "
   ]
  },
  {
   "cell_type": "code",
   "execution_count": 3,
   "id": "dd020c79",
   "metadata": {},
   "outputs": [],
   "source": [
    "_set_env(\"LANGCHAIN_API_KEY\")\n",
    "os.environ[\"LANGCHAIN_TRACING_V2\"] = \"true\"\n",
    "os.environ[\"LANGCHAIN_PROJECT\"] = \"langchain-academy\""
   ]
  },
  {
   "cell_type": "markdown",
   "id": "72f3fc90-58b6-4f7f-897e-dddf6ae532c7",
   "metadata": {},
   "source": [
    "## Messages as state\n",
    "\n",
    "First, let's define some messages."
   ]
  },
  {
   "cell_type": "code",
   "execution_count": 4,
   "id": "cf11a463-e27a-4a05-b41d-64882e38edca",
   "metadata": {},
   "outputs": [
    {
     "name": "stdout",
     "output_type": "stream",
     "text": [
      "==================================\u001b[1m Ai Message \u001b[0m==================================\n",
      "Name: Bot\n",
      "\n",
      "So you said you were researching ocean mammals?\n",
      "================================\u001b[1m Human Message \u001b[0m=================================\n",
      "Name: Lance\n",
      "\n",
      "Yes, I know about whales. But what others should I learn about?\n"
     ]
    }
   ],
   "source": [
    "from pprint import pprint\n",
    "from langchain_core.messages import AIMessage, HumanMessage\n",
    "messages = [AIMessage(f\"So you said you were researching ocean mammals?\", name=\"Bot\")]\n",
    "messages.append(HumanMessage(f\"Yes, I know about whales. But what others should I learn about?\", name=\"Lance\"))\n",
    "\n",
    "for m in messages:\n",
    "    m.pretty_print()"
   ]
  },
  {
   "cell_type": "markdown",
   "id": "b814adcb-6bf9-4b75-be11-e59f933fbd0c",
   "metadata": {},
   "source": [
    "Recall we can pass them to a chat model."
   ]
  },
  {
   "cell_type": "code",
   "execution_count": 5,
   "id": "4712e288-e622-48a2-ad3f-a52f65f3ab08",
   "metadata": {},
   "outputs": [
    {
     "data": {
      "text/plain": [
       "AIMessage(content='That\\'s great that you know about whales! There are several other fascinating ocean mammals you might want to explore. Here are a few:\\n\\n1. **Dolphins**: Highly intelligent and social, dolphins are known for their playful behavior and complex communication skills. There are several species, including bottlenose dolphins and orcas (which are technically dolphins).\\n\\n2. **Porpoises**: Often confused with dolphins, porpoises are smaller and have different physical features, such as shorter snouts and spade-shaped teeth.\\n\\n3. **Seals and Sea Lions**: These pinnipeds are often seen lounging on rocks or beaches. Seals have smaller flippers and move on land by wriggling, while sea lions have larger flippers and can \"walk\" on land.\\n\\n4. **Walruses**: Known for their distinctive tusks and whiskers, walruses are social animals that live in the Arctic. They primarily feed on invertebrates like clams and mussels.\\n\\n5. **Manatees and Dugongs**: Also known as sea cows, these gentle giants are herbivores that graze on sea grass in shallow coastal waters. Manatees are found in the Americas and Africa, while dugongs are found in the Indo-Pacific region.\\n\\n6. **Sea Otters**: Native to the coasts of the northern and eastern North Pacific Ocean, sea otters are known for their use of tools to open shellfish and for their dense, insulating fur.\\n\\n7. **Polar Bears**: Although primarily land animals, polar bears are excellent swimmers and depend heavily on the marine environment, particularly for hunting seals on sea ice.\\n\\nEach of these mammals has unique adaptations and behaviors that make them fascinating subjects of study. Happy researching!', additional_kwargs={'refusal': None}, response_metadata={'token_usage': {'completion_tokens': 356, 'prompt_tokens': 39, 'total_tokens': 395, 'completion_tokens_details': {'reasoning_tokens': 0}}, 'model_name': 'gpt-4o-2024-05-13', 'system_fingerprint': 'fp_25624ae3a5', 'finish_reason': 'stop', 'logprobs': None}, id='run-140043a1-0271-4dde-ad71-491134ca08ee-0', usage_metadata={'input_tokens': 39, 'output_tokens': 356, 'total_tokens': 395})"
      ]
     },
     "execution_count": 5,
     "metadata": {},
     "output_type": "execute_result"
    }
   ],
   "source": [
    "from langchain_openai import ChatOpenAI\n",
    "llm = ChatOpenAI(model=\"gpt-4o\")\n",
    "llm.invoke(messages)"
   ]
  },
  {
   "cell_type": "markdown",
   "id": "fbd1dab8-0af8-4621-8264-ce65065f76ec",
   "metadata": {},
   "source": [
    "We can run our chat model in a simple graph with `MessagesState`."
   ]
  },
  {
   "cell_type": "code",
   "execution_count": 6,
   "id": "bbd8c39c-633b-4176-9cc6-8318e42bb5dd",
   "metadata": {},
   "outputs": [
    {
     "data": {
      "image/jpeg": "[encoded data removed]",
      "text/plain": [
       "<IPython.core.display.Image object>"
      ]
     },
     "metadata": {},
     "output_type": "display_data"
    }
   ],
   "source": [
    "from IPython.display import Image, display\n",
    "from langgraph.graph import MessagesState\n",
    "from langgraph.graph import StateGraph, START, END\n",
    "\n",
    "# Node\n",
    "def chat_model_node(state: MessagesState):\n",
    "    return {\"messages\": llm.invoke(state[\"messages\"])}\n",
    "\n",
    "# Build graph\n",
    "builder = StateGraph(MessagesState)\n",
    "builder.add_node(\"chat_model\", chat_model_node)\n",
    "builder.add_edge(START, \"chat_model\")\n",
    "builder.add_edge(\"chat_model\", END)\n",
    "graph = builder.compile()\n",
    "\n",
    "# View\n",
    "display(Image(graph.get_graph().draw_mermaid_png()))"
   ]
  },
  {
   "cell_type": "code",
   "execution_count": 7,
   "id": "3a5a3e4a-ccfd-4d14-81f1-f0de6e11a1e4",
   "metadata": {},
   "outputs": [
    {
     "name": "stdout",
     "output_type": "stream",
     "text": [
      "==================================\u001b[1m Ai Message \u001b[0m==================================\n",
      "Name: Bot\n",
      "\n",
      "So you said you were researching ocean mammals?\n",
      "================================\u001b[1m Human Message \u001b[0m=================================\n",
      "Name: Lance\n",
      "\n",
      "Yes, I know about whales. But what others should I learn about?\n",
      "==================================\u001b[1m Ai Message \u001b[0m==================================\n",
      "\n",
      "Great! Whales are a fantastic starting point. Ocean mammals, or marine mammals, include a variety of species that inhabit the ocean. Here are a few more groups you might find interesting:\n",
      "\n",
      "1. **Dolphins and Porpoises**: \n",
      "   - **Dolphins**: Known for their intelligence and playful behavior, species include the Bottlenose Dolphin, Common Dolphin, and Orca (Killer Whale, which is actually a type of dolphin).\n",
      "   - **Porpoises**: Generally smaller and less acrobatic than dolphins, species include the Harbor Porpoise and the Vaquita.\n",
      "\n",
      "2. **Seals, Sea Lions, and Walruses** (Pinnipeds):\n",
      "   - **Seals**: True seals (earless seals) like the Harbor Seal and Elephant Seal.\n",
      "   - **Sea Lions and Fur Seals**: Have external ear flaps, like the California Sea Lion.\n",
      "   - **Walruses**: Known for their distinctive tusks and whiskers.\n",
      "\n",
      "3. **Manatees and Dugongs** (Sirenia):\n",
      "   - **Manatees**: Often called sea cows, species include the West Indian Manatee and the Amazonian Manatee.\n",
      "   - **Dugongs**: Similar to manatees but found in the Indo-Pacific region.\n",
      "\n",
      "4. **Sea Otters**:\n",
      "   - Known for their use of tools and dense fur, sea otters are crucial for the health of kelp forests.\n",
      "\n",
      "5. **Polar Bears**:\n",
      "   - Though not fully aquatic, polar bears are considered marine mammals because they rely on the ocean, particularly sea ice, for hunting seals.\n",
      "\n",
      "6. **Marine Fissipeds**:\n",
      "   - **Sea Mink**: An extinct species.\n",
      "   - **Marine Otters**: Found along the coasts of South America.\n",
      "\n",
      "Each of these groups has unique adaptations for living in marine environments, making them fascinating subjects for study. Happy researching!\n"
     ]
    }
   ],
   "source": [
    "output = graph.invoke({'messages': messages})\n",
    "for m in output['messages']:\n",
    "    m.pretty_print()"
   ]
  },
  {
   "cell_type": "markdown",
   "id": "34c33e63-1ef4-412d-bb10-6a1b9e5b35a7",
   "metadata": {},
   "source": [
    "## Reducer\n",
    "\n",
    "A practical challenge when working with messages is managing long-running conversations. \n",
    "\n",
    "Long-running conversations result in high token usage and latency if we are not careful, because we pass a growing list of messages to the model.\n",
    "\n",
    "We have a few ways to address this.\n",
    "\n",
    "First, recall the trick we saw using `RemoveMessage` and the `add_messages` reducer."
   ]
  },
  {
   "cell_type": "code",
   "execution_count": 8,
   "id": "222c6bc5-bb0e-4a43-80f5-c8ec38d99f3a",
   "metadata": {},
   "outputs": [
    {
     "data": {
      "image/jpeg": "[encoded data removed]",
      "text/plain": [
       "<IPython.core.display.Image object>"
      ]
     },
     "metadata": {},
     "output_type": "display_data"
    }
   ],
   "source": [
    "from langchain_core.messages import RemoveMessage\n",
    "\n",
    "# Nodes\n",
    "def filter_messages(state: MessagesState):\n",
    "    # Delete all but the 2 most recent messages\n",
    "    delete_messages = [RemoveMessage(id=m.id) for m in state[\"messages\"][:-2]]\n",
    "    return {\"messages\": delete_messages}\n",
    "\n",
    "def chat_model_node(state: MessagesState):    \n",
    "    return {\"messages\": [llm.invoke(state[\"messages\"])]}\n",
    "\n",
    "# Build graph\n",
    "builder = StateGraph(MessagesState)\n",
    "builder.add_node(\"filter\", filter_messages)\n",
    "builder.add_node(\"chat_model\", chat_model_node)\n",
    "builder.add_edge(START, \"filter\")\n",
    "builder.add_edge(\"filter\", \"chat_model\")\n",
    "builder.add_edge(\"chat_model\", END)\n",
    "graph = builder.compile()\n",
    "\n",
    "# View\n",
    "display(Image(graph.get_graph().draw_mermaid_png()))"
   ]
  },
  {
   "cell_type": "code",
   "execution_count": 9,
   "id": "95a7c2cc-54ce-43e7-9a90-abf37827d709",
   "metadata": {},
   "outputs": [
    {
     "name": "stderr",
     "output_type": "stream",
     "text": [
      "/var/folders/qy/xsj7s6ns2fx0124yjwz42xvm0000gn/T/ipykernel_4689/2487060097.py:6: LangChainBetaWarning: The class `RemoveMessage` is in beta. It is actively being worked on, so the API may change.\n",
      "  delete_messages = [RemoveMessage(id=m.id) for m in state[\"messages\"][:-2]]\n"
     ]
    },
    {
     "name": "stdout",
     "output_type": "stream",
     "text": [
      "==================================\u001b[1m Ai Message \u001b[0m==================================\n",
      "Name: Bot\n",
      "\n",
      "So you said you were researching ocean mammals?\n",
      "================================\u001b[1m Human Message \u001b[0m=================================\n",
      "Name: Lance\n",
      "\n",
      "Yes, I know about whales. But what others should I learn about?\n",
      "==================================\u001b[1m Ai Message \u001b[0m==================================\n",
      "\n",
      "Whales are indeed fascinating, but there are many other ocean mammals worth learning about! Here are a few you might find interesting:\n",
      "\n",
      "1. **Dolphins**: Highly intelligent and social animals, dolphins belong to the same family as whales (Cetacea). There are many species, including the well-known bottlenose dolphin.\n",
      "\n",
      "2. **Porpoises**: Often confused with dolphins, porpoises are smaller and have different physical characteristics such as a more rounded snout and spade-shaped teeth.\n",
      "\n",
      "3. **Seals**: These are pinnipeds, meaning \"fin-footed,\" and include species like the harbor seal and the gray seal. They are adapted to life both in water and on land.\n",
      "\n",
      "4. **Sea Lions**: Also pinnipeds, sea lions are known for their external ear flaps and their ability to \"walk\" on land using their large flippers.\n",
      "\n",
      "5. **Walruses**: Recognizable by their long tusks, walruses are large pinnipeds that primarily inhabit Arctic regions.\n",
      "\n",
      "6. **Manatees and Dugongs**: These are sirenians, also known as sea cows. Manatees are found in the Atlantic Ocean, while dugongs are found in the Indian and Pacific Oceans. They are herbivorous and spend most of their time grazing on sea grasses.\n",
      "\n",
      "7. **Sea Otters**: Though not fully aquatic, sea otters spend a lot of time in the water and are known for their use of tools to open shellfish.\n",
      "\n",
      "8. **Polar Bears**: While primarily land animals, polar bears are excellent swimmers and depend heavily on the ocean for hunting seals, their primary food source.\n",
      "\n",
      "These are just a few examples, but each of these species has unique adaptations and plays an important role in its ecosystem. Happy researching!\n"
     ]
    }
   ],
   "source": [
    "# Message list with a preamble\n",
    "messages = [AIMessage(\"Hi.\", name=\"Bot\", id=\"1\")]\n",
    "messages.append(HumanMessage(\"Hi.\", name=\"Lance\", id=\"2\"))\n",
    "messages.append(AIMessage(\"So you said you were researching ocean mammals?\", name=\"Bot\", id=\"3\"))\n",
    "messages.append(HumanMessage(\"Yes, I know about whales. But what others should I learn about?\", name=\"Lance\", id=\"4\"))\n",
    "\n",
    "# Invoke\n",
    "output = graph.invoke({'messages': messages})\n",
    "for m in output['messages']:\n",
    "    m.pretty_print()"
   ]
  },
  {
   "cell_type": "markdown",
   "id": "f506457d-014b-4fee-a684-e5edfb4b8f0d",
   "metadata": {},
   "source": [
    "## Filtering messages\n",
    "\n",
    "If you don't need or want to modify the graph state, you can just filter the messages you pass to the chat model.\n",
    "\n",
    "For example, just pass in a filtered list: `llm.invoke(messages[-1:])` to the model."
   ]
  },
  {
   "cell_type": "code",
   "execution_count": 10,
   "id": "22d0b904-7cd6-486b-8948-105bee3d4683",
   "metadata": {},
   "outputs": [
    {
     "data": {
      "image/jpeg": "[encoded data removed]",
      "text/plain": [
       "<IPython.core.display.Image object>"
      ]
     },
     "metadata": {},
     "output_type": "display_data"
    }
   ],
   "source": [
    "# Node\n",
    "def chat_model_node(state: MessagesState):\n",
    "    return {\"messages\": [llm.invoke(state[\"messages\"][-1:])]}\n",
    "\n",
    "# Build graph\n",
    "builder = StateGraph(MessagesState)\n",
    "builder.add_node(\"chat_model\", chat_model_node)\n",
    "builder.add_edge(START, \"chat_model\")\n",
    "builder.add_edge(\"chat_model\", END)\n",
    "graph = builder.compile()\n",
    "\n",
    "# View\n",
    "display(Image(graph.get_graph().draw_mermaid_png()))"
   ]
  },
  {
   "cell_type": "markdown",
   "id": "6f58c6fc-532f-418d-b70a-cfcb3307daf5",
   "metadata": {},
   "source": [
    "Let's take our existing list of messages, append the above LLM response, and append a follow-up question."
   ]
  },
  {
   "cell_type": "code",
   "execution_count": 11,
   "id": "16956015-1dbe-4108-89b5-4209b68b51ca",
   "metadata": {},
   "outputs": [],
   "source": [
    "messages.append(output['messages'][-1])\n",
    "messages.append(HumanMessage(f\"Tell me more about Narwhals!\", name=\"Lance\"))"
   ]
  },
  {
   "cell_type": "code",
   "execution_count": 12,
   "id": "85563415-c085-46a8-a4ac-155df798c54e",
   "metadata": {},
   "outputs": [
    {
     "name": "stdout",
     "output_type": "stream",
     "text": [
      "==================================\u001b[1m Ai Message \u001b[0m==================================\n",
      "Name: Bot\n",
      "\n",
      "Hi.\n",
      "================================\u001b[1m Human Message \u001b[0m=================================\n",
      "Name: Lance\n",
      "\n",
      "Hi.\n",
      "==================================\u001b[1m Ai Message \u001b[0m==================================\n",
      "Name: Bot\n",
      "\n",
      "So you said you were researching ocean mammals?\n",
      "================================\u001b[1m Human Message \u001b[0m=================================\n",
      "Name: Lance\n",
      "\n",
      "Yes, I know about whales. But what others should I learn about?\n",
      "==================================\u001b[1m Ai Message \u001b[0m==================================\n",
      "\n",
      "Whales are indeed fascinating, but there are many other ocean mammals worth learning about! Here are a few you might find interesting:\n",
      "\n",
      "1. **Dolphins**: Highly intelligent and social animals, dolphins belong to the same family as whales (Cetacea). There are many species, including the well-known bottlenose dolphin.\n",
      "\n",
      "2. **Porpoises**: Often confused with dolphins, porpoises are smaller and have different physical characteristics such as a more rounded snout and spade-shaped teeth.\n",
      "\n",
      "3. **Seals**: These are pinnipeds, meaning \"fin-footed,\" and include species like the harbor seal and the gray seal. They are adapted to life both in water and on land.\n",
      "\n",
      "4. **Sea Lions**: Also pinnipeds, sea lions are known for their external ear flaps and their ability to \"walk\" on land using their large flippers.\n",
      "\n",
      "5. **Walruses**: Recognizable by their long tusks, walruses are large pinnipeds that primarily inhabit Arctic regions.\n",
      "\n",
      "6. **Manatees and Dugongs**: These are sirenians, also known as sea cows. Manatees are found in the Atlantic Ocean, while dugongs are found in the Indian and Pacific Oceans. They are herbivorous and spend most of their time grazing on sea grasses.\n",
      "\n",
      "7. **Sea Otters**: Though not fully aquatic, sea otters spend a lot of time in the water and are known for their use of tools to open shellfish.\n",
      "\n",
      "8. **Polar Bears**: While primarily land animals, polar bears are excellent swimmers and depend heavily on the ocean for hunting seals, their primary food source.\n",
      "\n",
      "These are just a few examples, but each of these species has unique adaptations and plays an important role in its ecosystem. Happy researching!\n",
      "================================\u001b[1m Human Message \u001b[0m=================================\n",
      "Name: Lance\n",
      "\n",
      "Tell me more about Narwhals!\n"
     ]
    }
   ],
   "source": [
    "for m in messages:\n",
    "    m.pretty_print()"
   ]
  },
  {
   "cell_type": "code",
   "execution_count": 13,
   "id": "23349705-a059-47b5-9760-d8f64e687393",
   "metadata": {},
   "outputs": [
    {
     "name": "stdout",
     "output_type": "stream",
     "text": [
      "==================================\u001b[1m Ai Message \u001b[0m==================================\n",
      "Name: Bot\n",
      "\n",
      "Hi.\n",
      "================================\u001b[1m Human Message \u001b[0m=================================\n",
      "Name: Lance\n",
      "\n",
      "Hi.\n",
      "==================================\u001b[1m Ai Message \u001b[0m==================================\n",
      "Name: Bot\n",
      "\n",
      "So you said you were researching ocean mammals?\n",
      "================================\u001b[1m Human Message \u001b[0m=================================\n",
      "Name: Lance\n",
      "\n",
      "Yes, I know about whales. But what others should I learn about?\n",
      "==================================\u001b[1m Ai Message \u001b[0m==================================\n",
      "\n",
      "Whales are indeed fascinating, but there are many other ocean mammals worth learning about! Here are a few you might find interesting:\n",
      "\n",
      "1. **Dolphins**: Highly intelligent and social animals, dolphins belong to the same family as whales (Cetacea). There are many species, including the well-known bottlenose dolphin.\n",
      "\n",
      "2. **Porpoises**: Often confused with dolphins, porpoises are smaller and have different physical characteristics such as a more rounded snout and spade-shaped teeth.\n",
      "\n",
      "3. **Seals**: These are pinnipeds, meaning \"fin-footed,\" and include species like the harbor seal and the gray seal. They are adapted to life both in water and on land.\n",
      "\n",
      "4. **Sea Lions**: Also pinnipeds, sea lions are known for their external ear flaps and their ability to \"walk\" on land using their large flippers.\n",
      "\n",
      "5. **Walruses**: Recognizable by their long tusks, walruses are large pinnipeds that primarily inhabit Arctic regions.\n",
      "\n",
      "6. **Manatees and Dugongs**: These are sirenians, also known as sea cows. Manatees are found in the Atlantic Ocean, while dugongs are found in the Indian and Pacific Oceans. They are herbivorous and spend most of their time grazing on sea grasses.\n",
      "\n",
      "7. **Sea Otters**: Though not fully aquatic, sea otters spend a lot of time in the water and are known for their use of tools to open shellfish.\n",
      "\n",
      "8. **Polar Bears**: While primarily land animals, polar bears are excellent swimmers and depend heavily on the ocean for hunting seals, their primary food source.\n",
      "\n",
      "These are just a few examples, but each of these species has unique adaptations and plays an important role in its ecosystem. Happy researching!\n",
      "================================\u001b[1m Human Message \u001b[0m=================================\n",
      "Name: Lance\n",
      "\n",
      "Tell me more about Narwhals!\n",
      "==================================\u001b[1m Ai Message \u001b[0m==================================\n",
      "\n",
      "Sure, narwhals (Monodon monoceros) are fascinating marine mammals known for their distinctive long, spiral tusks that can reach up to 10 feet (3 meters) in length. These tusks are actually elongated upper left canine teeth that grow through the narwhal's upper lip. Despite their unicorn-like appearance, narwhals are real animals and belong to the cetacean family, which includes whales, dolphins, and porpoises.\n",
      "\n",
      "### Physical Characteristics\n",
      "- **Size:** Adult narwhals typically range from 13 to 20 feet (4 to 6 meters) in length, not including the tusk. They can weigh between 1,800 and 3,500 pounds (800 to 1,600 kilograms).\n",
      "- **Color:** They are usually grayish with mottled patterns, and their coloration can change over their lifespan. Calves are blue-gray, and adults are more mottled, while older narwhals may appear almost completely white.\n",
      "- **Tusk:** Not all narwhals have tusks. While most males have them, some females also grow tusks, though they are generally shorter and less spiraled. The tusk is thought to serve multiple purposes, including social dominance, mating rituals, and possibly sensory functions.\n",
      "\n",
      "### Habitat\n",
      "- **Geographic Range:** Narwhals are found primarily in the Arctic waters around Greenland, Canada, and Russia. They are particularly associated with the icy waters of the North Atlantic and Arctic Oceans.\n",
      "- **Environment:** They prefer deep, cold waters and are known to dive to depths of over 4,900 feet (1,500 meters) in search of food.\n",
      "\n",
      "### Behavior and Diet\n",
      "- **Diet:** Narwhals primarily feed on fish, squid, and shrimp. Greenland halibut, Arctic and polar cod, and cuttlefish are among their favorite prey.\n",
      "- **Diving:** They are deep divers and can hold their breath for up to 25 minutes. Their dives are typically aimed at finding prey in the deep, dark waters.\n",
      "- **Social Structure:** Narwhals are social animals and are often found in groups called pods, which can range from a few individuals to several dozen.\n",
      "\n",
      "### Reproduction and Lifespan\n",
      "- **Breeding:** Female narwhals typically give birth to a single calf after a 14-month gestation period. Calves are usually born between June and August.\n",
      "- **Lifespan:** Narwhals can live up to 50 years, although the average lifespan is around 30 years.\n",
      "\n",
      "### Conservation Status\n",
      "- **Threats:** Narwhals face threats from climate change, which affects their icy habitat, as well as from hunting, entanglement in fishing gear, and industrial activities such as oil and gas exploration.\n",
      "- **Conservation Efforts:** Various international agreements and regulations aim to protect narwhals, and indigenous communities that hunt them often do so under sustainable practices.\n",
      "\n",
      "### Fun Facts\n",
      "1. **Tusk Sensory Function:** Recent research suggests that the tusk may have sensory capabilities, allowing narwhals to detect changes in their environment, such as water temperature and salinity.\n",
      "2. **Myth and Legend:** The narwhal’s tusk was often sold as \"unicorn horn\" in medieval Europe, believed to have magical properties.\n",
      "3. **Communication:** Narwhals are known for their vocalizations, which include clicks, whistles, and knocks, used for communication and echolocation.\n",
      "\n",
      "Narwhals are truly unique creatures, and ongoing research continues to reveal more about their mysterious lives in the Arctic waters.\n"
     ]
    }
   ],
   "source": [
    "# Invoke, using message filtering\n",
    "output = graph.invoke({'messages': messages})\n",
    "for m in output['messages']:\n",
    "    m.pretty_print()"
   ]
  },
  {
   "cell_type": "markdown",
   "id": "42e1d8d2-e297-4d78-b54c-d12b3c866745",
   "metadata": {},
   "source": [
    "The state has all of the mesages.\n",
    "\n",
    "But, let's look at the LangSmith trace to see that the model invocation only uses the last message:\n",
    "\n",
    "https://smith.langchain.com/public/75aca3ce-ef19-4b92-94be-0178c7a660d9/r"
   ]
  },
  {
   "cell_type": "markdown",
   "id": "fc40d930-3c1f-47fe-8d2a-ce174873353c",
   "metadata": {},
   "source": [
    "## Trim messages\n",
    "\n",
    "Another approach is to [trim messages](https://python.langchain.com/v0.2/docs/how_to/trim_messages/#getting-the-last-max_tokens-tokens), based upon a set number of tokens. \n",
    "\n",
    "This restricts the message history to a specified number of tokens.\n",
    "\n",
    "While filtering only returns a post-hoc subset of the messages between agents, trimming restricts the number of tokens that a chat model can use to respond.\n",
    "\n",
    "See the `trim_messages` below."
   ]
  },
  {
   "cell_type": "code",
   "execution_count": 14,
   "id": "2ff99b81-cf03-4cc2-b44f-44829a73e1fd",
   "metadata": {},
   "outputs": [
    {
     "data": {
      "image/jpeg": "[encoded data removed]",
      "text/plain": [
       "<IPython.core.display.Image object>"
      ]
     },
     "metadata": {},
     "output_type": "display_data"
    }
   ],
   "source": [
    "from langchain_core.messages import trim_messages\n",
    "\n",
    "# Node\n",
    "def chat_model_node(state: MessagesState):\n",
    "    messages = trim_messages(\n",
    "            state[\"messages\"],\n",
    "            max_tokens=100,\n",
    "            strategy=\"last\",\n",
    "            token_counter=ChatOpenAI(model=\"gpt-4o\"),\n",
    "            allow_partial=False,\n",
    "        )\n",
    "    return {\"messages\": [llm.invoke(messages)]}\n",
    "\n",
    "# Build graph\n",
    "builder = StateGraph(MessagesState)\n",
    "builder.add_node(\"chat_model\", chat_model_node)\n",
    "builder.add_edge(START, \"chat_model\")\n",
    "builder.add_edge(\"chat_model\", END)\n",
    "graph = builder.compile()\n",
    "\n",
    "# View\n",
    "display(Image(graph.get_graph().draw_mermaid_png()))"
   ]
  },
  {
   "cell_type": "code",
   "execution_count": 15,
   "id": "24df63ac-da29-4874-b3df-7e390e97cc8a",
   "metadata": {},
   "outputs": [],
   "source": [
    "messages.append(output['messages'][-1])\n",
    "messages.append(HumanMessage(f\"Tell me where Orcas live!\", name=\"Lance\"))"
   ]
  },
  {
   "cell_type": "code",
   "execution_count": 16,
   "id": "6d9d8971-c75c-43ca-a209-eb1d07b2ead0",
   "metadata": {},
   "outputs": [
    {
     "data": {
      "text/plain": [
       "[HumanMessage(content='Tell me where Orcas live!', additional_kwargs={}, response_metadata={}, name='Lance')]"
      ]
     },
     "execution_count": 16,
     "metadata": {},
     "output_type": "execute_result"
    }
   ],
   "source": [
    "trim_messages(\n",
    "            messages,\n",
    "            max_tokens=100,\n",
    "            strategy=\"last\",\n",
    "            token_counter=ChatOpenAI(model=\"gpt-4o\"),\n",
    "            allow_partial=False\n",
    "        )"
   ]
  },
  {
   "cell_type": "code",
   "execution_count": 17,
   "id": "ed70a269-a869-4fa0-a1df-29736a432c51",
   "metadata": {},
   "outputs": [],
   "source": [
    "# Invoke, using message trimming\n",
    "messages_out_trim = graph.invoke({'messages': messages})"
   ]
  },
  {
   "cell_type": "markdown",
   "id": "38b3db67-380e-46b5-9a6a-20100ba52008",
   "metadata": {},
   "source": [
    "Let's look at the LangSmith trace to see the model invocation:\n",
    "\n",
    "https://smith.langchain.com/public/b153f7e9-f1a5-4d60-8074-f0d7ab5b42ef/r"
   ]
  }
 ],
 "metadata": {
  "kernelspec": {
   "display_name": "Python 3 (ipykernel)",
   "language": "python",
   "name": "python3"
  },
  "language_info": {
   "codemirror_mode": {
    "name": "ipython",
    "version": 3
   },
   "file_extension": ".py",
   "mimetype": "text/x-python",
   "name": "python",
   "nbconvert_exporter": "python",
   "pygments_lexer": "ipython3",
   "version": "3.11.9"
  }
 },
 "nbformat": 4,
 "nbformat_minor": 5
}
